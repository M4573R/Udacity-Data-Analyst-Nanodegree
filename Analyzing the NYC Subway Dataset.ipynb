{
 "metadata": {
  "name": "",
  "signature": "sha256:f64fb5724c3c1431d48ba0f5d66d626327a13fc816b09d1b57583801c22fa2af"
 },
 "nbformat": 3,
 "nbformat_minor": 0,
 "worksheets": [
  {
   "cells": [
    {
     "cell_type": "code",
     "collapsed": false,
     "input": [
      "%pylab inline"
     ],
     "language": "python",
     "metadata": {},
     "outputs": [
      {
       "output_type": "stream",
       "stream": "stdout",
       "text": [
        "Populating the interactive namespace from numpy and matplotlib\n"
       ]
      }
     ],
     "prompt_number": 1
    },
    {
     "cell_type": "code",
     "collapsed": false,
     "input": [
      "from ggplot import *\n",
      "import pandas as pd\n",
      "import numpy as np\n",
      "import pandasql\n",
      "import scipy.stats"
     ],
     "language": "python",
     "metadata": {},
     "outputs": [],
     "prompt_number": 2
    },
    {
     "cell_type": "heading",
     "level": 2,
     "metadata": {},
     "source": [
      "<font color='00ADFF'>Overview</font>"
     ]
    },
    {
     "cell_type": "markdown",
     "metadata": {},
     "source": [
      "This project consists of two parts. In Part 1 of the project, you should have completed the questions in Problem Sets 2, 3, 4, and 5 in the Introduction to Data Science course.  \n",
      "This document addresses part 2 of the project. Please use this document as a template and answer the following questions to explain your reasoning and conclusion behind your work in the problem sets. You will attach a document with your answers to these questions as part of your final project submission."
     ]
    },
    {
     "cell_type": "heading",
     "level": 2,
     "metadata": {},
     "source": [
      "<font color='00ADFF'>Section 1. Statistical Test</font>"
     ]
    },
    {
     "cell_type": "markdown",
     "metadata": {},
     "source": [
      "1. Which statistical test did you use to analyse the NYC subway data? Did you use a one-tail or a two-tail P value?  \n",
      "I used Wilcoxon rank-sum test based on the observation of non-normal distribution of the data. The null hypothesis of my test was $\\mu_{rainy day}$ = $\\mu_{non-rainy day}$ versus the altertive hypothesis: $\\mu_{rainy day}$ > $\\mu_{non-rainy day}$. So it only makes sense to use the one-tail P-value in this case.  **(TODO: Change the hypothesis)**  \n",
      "\n",
      "2. Why is this statistical test applicable to the dataset?  \n",
      "According to [the wikipedia page of Mann\u2013Whitney U test](http://en.wikipedia.org/wiki/Mann%E2%80%93Whitney_U_test)(aka Wilcoxon rank-sum test),  \n",
      "3. What results did you get from this statistical test? These should include the following numerical values: p-values, as well as the means for each of the two samples under test.  \n",
      "4. What is the significance and interpretation of these results?  "
     ]
    },
    {
     "cell_type": "code",
     "collapsed": false,
     "input": [
      "turnstile = pd.read_csv(\"/Users/apple/Documents/Open_Course/UDACITY/Intro to Data Science/Final Project/improved-dataset/turnstile_weather_v2.csv\")"
     ],
     "language": "python",
     "metadata": {},
     "outputs": [],
     "prompt_number": 3
    },
    {
     "cell_type": "code",
     "collapsed": false,
     "input": [
      "z_stats, p_val = scipy.stats.ranksums(turnstile.ENTRIESn[turnstile.rain==1], turnstile.ENTRIESn[turnstile.rain==0])\n",
      "print \"The Z-statistics is the test is \"+str(z_stats)+\" and the one-tailed p-value is \"+ str(p_val/2)\n",
      "print \"The 1st quartile of ridership of non-rainy days is \" + str(np.percentile(turnstile.ENTRIESn[turnstile.rain==0], 25))\n",
      "print \"The 1st quartile of ridership of rainy days is \" + str(np.percentile(turnstile.ENTRIESn[turnstile.rain==1], 25))\n",
      "print \"The median of ridership of non-rainy days is \" + str(np.percentile(turnstile.ENTRIESn[turnstile.rain==0], 50))\n",
      "print \"The median of ridership of rainy days is \" + str(np.percentile(turnstile.ENTRIESn[turnstile.rain==1], 50))\n",
      "print \"The 3rd quartile of ridership of non-rainy days is \" + str(np.percentile(turnstile.ENTRIESn[turnstile.rain==0], 75))\n",
      "print \"The 3rd quartile of ridership of rainy days is \" + str(np.percentile(turnstile.ENTRIESn[turnstile.rain==1], 75))"
     ],
     "language": "python",
     "metadata": {},
     "outputs": [
      {
       "output_type": "stream",
       "stream": "stdout",
       "text": [
        "The Z-statistics is the test is -0.603427764019 and the one-tailed p-value is 0.273112078448\n",
        "The 1st quartile of ridership of non-rainy days is 10425740.25\n",
        "The 1st quartile of ridership of rainy days is 10326389.0\n",
        "The median of ridership of non-rainy days is 18188463.5\n",
        "The median of ridership of rainy days is 18172613.0\n",
        "The 3rd quartile of ridership of non-rainy days is 32634783.5\n",
        "The 3rd quartile of ridership of rainy days is 32542853.0\n"
       ]
      }
     ],
     "prompt_number": 4
    },
    {
     "cell_type": "code",
     "collapsed": false,
     "input": [
      "ggplot(turnstile, aes(x='ENTRIESn')) \\\n",
      "+ ggtitle(\"Histogram of Ridership for rainy and non-rainy days\") \\\n",
      "+ geom_histogram() + facet_grid('rain') "
     ],
     "language": "python",
     "metadata": {},
     "outputs": [
      {
       "metadata": {},
       "output_type": "display_data",
       "png": "[encoded data removed]",
       "text": [
        "<matplotlib.figure.Figure at 0x10c3a8190>"
       ]
      },
      {
       "metadata": {},
       "output_type": "pyout",
       "prompt_number": 35,
       "text": [
        "<ggplot: (281262965)>"
       ]
      }
     ],
     "prompt_number": 35
    },
    {
     "cell_type": "code",
     "collapsed": false,
     "input": [
      "q = \"\"\"\n",
      "    SELECT SUM(ENTRIESn) AS 'ENTRIES', COUNT(rain) AS 'Total_Days'\n",
      "    FROM turnstile\n",
      "    GROUP BY rain\n",
      "    \"\"\"\n",
      "    \n",
      "#Execute your SQL command against the pandas frame\n",
      "rainy_days = pandasql.sqldf(q.lower(), locals())"
     ],
     "language": "python",
     "metadata": {},
     "outputs": [],
     "prompt_number": 6
    },
    {
     "cell_type": "code",
     "collapsed": false,
     "input": [
      "rainy_days"
     ],
     "language": "python",
     "metadata": {},
     "outputs": [
      {
       "html": [
        "<div style=\"max-height:1000px;max-width:1500px;overflow:auto;\">\n",
        "<table border=\"1\" class=\"dataframe\">\n",
        "  <thead>\n",
        "    <tr style=\"text-align: right;\">\n",
        "      <th></th>\n",
        "      <th>entries</th>\n",
        "      <th>total_days</th>\n",
        "    </tr>\n",
        "  </thead>\n",
        "  <tbody>\n",
        "    <tr>\n",
        "      <th>0</th>\n",
        "      <td> 9.310275e+11</td>\n",
        "      <td> 33064</td>\n",
        "    </tr>\n",
        "    <tr>\n",
        "      <th>1</th>\n",
        "      <td> 2.684695e+11</td>\n",
        "      <td>  9585</td>\n",
        "    </tr>\n",
        "  </tbody>\n",
        "</table>\n",
        "</div>"
       ],
       "metadata": {},
       "output_type": "pyout",
       "prompt_number": 7,
       "text": [
        "        entries  total_days\n",
        "0  9.310275e+11       33064\n",
        "1  2.684695e+11        9585"
       ]
      }
     ],
     "prompt_number": 7
    },
    {
     "cell_type": "heading",
     "level": 2,
     "metadata": {},
     "source": [
      "<font color='00ADFF'>Section 2. Linear Regression</font>"
     ]
    },
    {
     "cell_type": "markdown",
     "metadata": {},
     "source": [
      "\n",
      "1. What approach did you use to compute the coefficients theta and produce prediction for ENTRIESn_hourly in your regression model:  \n",
      "  - Gradient descent (as implemented in exercise 3.5)\n",
      "  - OLS using Statsmodels\n",
      "  - Or something different?\n",
      "2. What features (input variables) did you use in your model? Did you use any dummy variables as part of your features?\n",
      "3. Why did you select these features in your model? We are looking for specific reasons that lead you to believe that\n",
      "the selected features will contribute to the predictive power of your model. Your reasons might be based on intuition. For example,  response for fog might be: \u201cI decided to use fog because I thought that when it is very foggy outside people might decide to use the subway more often.\u201d Your reasons might also be based on data exploration and experimentation, for example: \u201cI used feature X because as soon as I included it in my model, it drastically improved my $R^2$ value.\u201d  \n",
      "4. What is your model\u2019s $R^2$ (coefficients of determination) value?\n",
      "5. What does this $R^2$ value mean for the goodness of fit for your regression model? \n",
      "Do you think this linear model to predict ridership is appropriate for this dataset, given this $R^2$ value?"
     ]
    },
    {
     "cell_type": "code",
     "collapsed": false,
     "input": [
      "turnstile.head(5)"
     ],
     "language": "python",
     "metadata": {},
     "outputs": [
      {
       "html": [
        "<div style=\"max-height:1000px;max-width:1500px;overflow:auto;\">\n",
        "<table border=\"1\" class=\"dataframe\">\n",
        "  <thead>\n",
        "    <tr style=\"text-align: right;\">\n",
        "      <th></th>\n",
        "      <th>UNIT</th>\n",
        "      <th>DATEn</th>\n",
        "      <th>TIMEn</th>\n",
        "      <th>ENTRIESn</th>\n",
        "      <th>EXITSn</th>\n",
        "      <th>ENTRIESn_hourly</th>\n",
        "      <th>EXITSn_hourly</th>\n",
        "      <th>datetime</th>\n",
        "      <th>hour</th>\n",
        "      <th>day_week</th>\n",
        "      <th>...</th>\n",
        "      <th>pressurei</th>\n",
        "      <th>rain</th>\n",
        "      <th>tempi</th>\n",
        "      <th>wspdi</th>\n",
        "      <th>meanprecipi</th>\n",
        "      <th>meanpressurei</th>\n",
        "      <th>meantempi</th>\n",
        "      <th>meanwspdi</th>\n",
        "      <th>weather_lat</th>\n",
        "      <th>weather_lon</th>\n",
        "    </tr>\n",
        "  </thead>\n",
        "  <tbody>\n",
        "    <tr>\n",
        "      <th>0</th>\n",
        "      <td> R003</td>\n",
        "      <td> 05-01-11</td>\n",
        "      <td> 00:00:00</td>\n",
        "      <td> 4388333</td>\n",
        "      <td> 2911002</td>\n",
        "      <td> 0</td>\n",
        "      <td> 0</td>\n",
        "      <td> 2011-05-01 00:00:00</td>\n",
        "      <td>  0</td>\n",
        "      <td> 6</td>\n",
        "      <td>...</td>\n",
        "      <td> 30.22</td>\n",
        "      <td> 0</td>\n",
        "      <td> 55.9</td>\n",
        "      <td>  3.5</td>\n",
        "      <td> 0</td>\n",
        "      <td> 30.258</td>\n",
        "      <td> 55.98</td>\n",
        "      <td> 7.86</td>\n",
        "      <td> 40.700348</td>\n",
        "      <td>-73.887177</td>\n",
        "    </tr>\n",
        "    <tr>\n",
        "      <th>1</th>\n",
        "      <td> R003</td>\n",
        "      <td> 05-01-11</td>\n",
        "      <td> 04:00:00</td>\n",
        "      <td> 4388333</td>\n",
        "      <td> 2911002</td>\n",
        "      <td> 0</td>\n",
        "      <td> 0</td>\n",
        "      <td> 2011-05-01 04:00:00</td>\n",
        "      <td>  4</td>\n",
        "      <td> 6</td>\n",
        "      <td>...</td>\n",
        "      <td> 30.25</td>\n",
        "      <td> 0</td>\n",
        "      <td> 52.0</td>\n",
        "      <td>  3.5</td>\n",
        "      <td> 0</td>\n",
        "      <td> 30.258</td>\n",
        "      <td> 55.98</td>\n",
        "      <td> 7.86</td>\n",
        "      <td> 40.700348</td>\n",
        "      <td>-73.887177</td>\n",
        "    </tr>\n",
        "    <tr>\n",
        "      <th>2</th>\n",
        "      <td> R003</td>\n",
        "      <td> 05-01-11</td>\n",
        "      <td> 12:00:00</td>\n",
        "      <td> 4388333</td>\n",
        "      <td> 2911002</td>\n",
        "      <td> 0</td>\n",
        "      <td> 0</td>\n",
        "      <td> 2011-05-01 12:00:00</td>\n",
        "      <td> 12</td>\n",
        "      <td> 6</td>\n",
        "      <td>...</td>\n",
        "      <td> 30.28</td>\n",
        "      <td> 0</td>\n",
        "      <td> 62.1</td>\n",
        "      <td>  6.9</td>\n",
        "      <td> 0</td>\n",
        "      <td> 30.258</td>\n",
        "      <td> 55.98</td>\n",
        "      <td> 7.86</td>\n",
        "      <td> 40.700348</td>\n",
        "      <td>-73.887177</td>\n",
        "    </tr>\n",
        "    <tr>\n",
        "      <th>3</th>\n",
        "      <td> R003</td>\n",
        "      <td> 05-01-11</td>\n",
        "      <td> 16:00:00</td>\n",
        "      <td> 4388333</td>\n",
        "      <td> 2911002</td>\n",
        "      <td> 0</td>\n",
        "      <td> 0</td>\n",
        "      <td> 2011-05-01 16:00:00</td>\n",
        "      <td> 16</td>\n",
        "      <td> 6</td>\n",
        "      <td>...</td>\n",
        "      <td> 30.26</td>\n",
        "      <td> 0</td>\n",
        "      <td> 57.9</td>\n",
        "      <td> 15.0</td>\n",
        "      <td> 0</td>\n",
        "      <td> 30.258</td>\n",
        "      <td> 55.98</td>\n",
        "      <td> 7.86</td>\n",
        "      <td> 40.700348</td>\n",
        "      <td>-73.887177</td>\n",
        "    </tr>\n",
        "    <tr>\n",
        "      <th>4</th>\n",
        "      <td> R003</td>\n",
        "      <td> 05-01-11</td>\n",
        "      <td> 20:00:00</td>\n",
        "      <td> 4388333</td>\n",
        "      <td> 2911002</td>\n",
        "      <td> 0</td>\n",
        "      <td> 0</td>\n",
        "      <td> 2011-05-01 20:00:00</td>\n",
        "      <td> 20</td>\n",
        "      <td> 6</td>\n",
        "      <td>...</td>\n",
        "      <td> 30.28</td>\n",
        "      <td> 0</td>\n",
        "      <td> 52.0</td>\n",
        "      <td> 10.4</td>\n",
        "      <td> 0</td>\n",
        "      <td> 30.258</td>\n",
        "      <td> 55.98</td>\n",
        "      <td> 7.86</td>\n",
        "      <td> 40.700348</td>\n",
        "      <td>-73.887177</td>\n",
        "    </tr>\n",
        "  </tbody>\n",
        "</table>\n",
        "<p>5 rows \u00d7 27 columns</p>\n",
        "</div>"
       ],
       "metadata": {},
       "output_type": "pyout",
       "prompt_number": 36,
       "text": [
        "   UNIT     DATEn     TIMEn  ENTRIESn   EXITSn  ENTRIESn_hourly  \\\n",
        "0  R003  05-01-11  00:00:00   4388333  2911002                0   \n",
        "1  R003  05-01-11  04:00:00   4388333  2911002                0   \n",
        "2  R003  05-01-11  12:00:00   4388333  2911002                0   \n",
        "3  R003  05-01-11  16:00:00   4388333  2911002                0   \n",
        "4  R003  05-01-11  20:00:00   4388333  2911002                0   \n",
        "\n",
        "   EXITSn_hourly             datetime  hour  day_week    ...     pressurei  \\\n",
        "0              0  2011-05-01 00:00:00     0         6    ...         30.22   \n",
        "1              0  2011-05-01 04:00:00     4         6    ...         30.25   \n",
        "2              0  2011-05-01 12:00:00    12         6    ...         30.28   \n",
        "3              0  2011-05-01 16:00:00    16         6    ...         30.26   \n",
        "4              0  2011-05-01 20:00:00    20         6    ...         30.28   \n",
        "\n",
        "  rain  tempi  wspdi meanprecipi  meanpressurei  meantempi  meanwspdi  \\\n",
        "0    0   55.9    3.5           0         30.258      55.98       7.86   \n",
        "1    0   52.0    3.5           0         30.258      55.98       7.86   \n",
        "2    0   62.1    6.9           0         30.258      55.98       7.86   \n",
        "3    0   57.9   15.0           0         30.258      55.98       7.86   \n",
        "4    0   52.0   10.4           0         30.258      55.98       7.86   \n",
        "\n",
        "   weather_lat  weather_lon  \n",
        "0    40.700348   -73.887177  \n",
        "1    40.700348   -73.887177  \n",
        "2    40.700348   -73.887177  \n",
        "3    40.700348   -73.887177  \n",
        "4    40.700348   -73.887177  \n",
        "\n",
        "[5 rows x 27 columns]"
       ]
      }
     ],
     "prompt_number": 36
    },
    {
     "cell_type": "code",
     "collapsed": false,
     "input": [
      "turnstile.columns"
     ],
     "language": "python",
     "metadata": {},
     "outputs": [
      {
       "metadata": {},
       "output_type": "pyout",
       "prompt_number": 10,
       "text": [
        "Index([u'UNIT', u'DATEn', u'TIMEn', u'ENTRIESn', u'EXITSn', u'ENTRIESn_hourly', u'EXITSn_hourly', u'datetime', u'hour', u'day_week', u'weekday', u'station', u'latitude', u'longitude', u'conds', u'fog', u'precipi', u'pressurei', u'rain', u'tempi', u'wspdi', u'meanprecipi', u'meanpressurei', u'meantempi', u'meanwspdi', u'weather_lat', u'weather_lon'], dtype='object')"
       ]
      }
     ],
     "prompt_number": 10
    },
    {
     "cell_type": "code",
     "collapsed": false,
     "input": [
      "from patsy import dmatrices\n",
      "# The '- 1' in the formula is to remove the intercept, which gets added back in later by sklearn.\n",
      "y, X = dmatrices('ENTRIESn_hourly ~ rain + tempi + fog + wspdi + day_week + pressurei - 1', data=turnstile, return_type='dataframe')\n",
      "X.head()"
     ],
     "language": "python",
     "metadata": {},
     "outputs": [
      {
       "html": [
        "<div style=\"max-height:1000px;max-width:1500px;overflow:auto;\">\n",
        "<table border=\"1\" class=\"dataframe\">\n",
        "  <thead>\n",
        "    <tr style=\"text-align: right;\">\n",
        "      <th></th>\n",
        "      <th>rain</th>\n",
        "      <th>tempi</th>\n",
        "      <th>fog</th>\n",
        "      <th>wspdi</th>\n",
        "      <th>day_week</th>\n",
        "      <th>pressurei</th>\n",
        "    </tr>\n",
        "  </thead>\n",
        "  <tbody>\n",
        "    <tr>\n",
        "      <th>0</th>\n",
        "      <td> 0</td>\n",
        "      <td> 55.9</td>\n",
        "      <td> 0</td>\n",
        "      <td>  3.5</td>\n",
        "      <td> 6</td>\n",
        "      <td> 30.22</td>\n",
        "    </tr>\n",
        "    <tr>\n",
        "      <th>1</th>\n",
        "      <td> 0</td>\n",
        "      <td> 52.0</td>\n",
        "      <td> 0</td>\n",
        "      <td>  3.5</td>\n",
        "      <td> 6</td>\n",
        "      <td> 30.25</td>\n",
        "    </tr>\n",
        "    <tr>\n",
        "      <th>2</th>\n",
        "      <td> 0</td>\n",
        "      <td> 62.1</td>\n",
        "      <td> 0</td>\n",
        "      <td>  6.9</td>\n",
        "      <td> 6</td>\n",
        "      <td> 30.28</td>\n",
        "    </tr>\n",
        "    <tr>\n",
        "      <th>3</th>\n",
        "      <td> 0</td>\n",
        "      <td> 57.9</td>\n",
        "      <td> 0</td>\n",
        "      <td> 15.0</td>\n",
        "      <td> 6</td>\n",
        "      <td> 30.26</td>\n",
        "    </tr>\n",
        "    <tr>\n",
        "      <th>4</th>\n",
        "      <td> 0</td>\n",
        "      <td> 52.0</td>\n",
        "      <td> 0</td>\n",
        "      <td> 10.4</td>\n",
        "      <td> 6</td>\n",
        "      <td> 30.28</td>\n",
        "    </tr>\n",
        "  </tbody>\n",
        "</table>\n",
        "</div>"
       ],
       "metadata": {},
       "output_type": "pyout",
       "prompt_number": 5,
       "text": [
        "   rain  tempi  fog  wspdi  day_week  pressurei\n",
        "0     0   55.9    0    3.5         6      30.22\n",
        "1     0   52.0    0    3.5         6      30.25\n",
        "2     0   62.1    0    6.9         6      30.28\n",
        "3     0   57.9    0   15.0         6      30.26\n",
        "4     0   52.0    0   10.4         6      30.28"
       ]
      }
     ],
     "prompt_number": 5
    },
    {
     "cell_type": "code",
     "collapsed": false,
     "input": [
      "from sklearn.linear_model import LinearRegression\n",
      "model = LinearRegression()\n",
      "model = model.fit(X,y)\n",
      "print model.coef_\n",
      "print model.intercept_"
     ],
     "language": "python",
     "metadata": {},
     "outputs": [
      {
       "output_type": "stream",
       "stream": "stdout",
       "text": [
        "[[ 241.79765324   33.13146428 -293.07966494   20.4030216  -118.31529352\n",
        "  -397.82731208]]\n",
        "[ 11870.16886399]\n"
       ]
      }
     ],
     "prompt_number": 6
    },
    {
     "cell_type": "markdown",
     "metadata": {},
     "source": [
      "- `model.coef_` are the learned coef of the $\\beta$ parameters. \n",
      "- `model.intercept_` is automatically included by sklearn. "
     ]
    },
    {
     "cell_type": "code",
     "collapsed": false,
     "input": [
      "print model.score(X,y) # R^2 value"
     ],
     "language": "python",
     "metadata": {},
     "outputs": [
      {
       "output_type": "stream",
       "stream": "stdout",
       "text": [
        "0.0197422321185\n"
       ]
      }
     ],
     "prompt_number": 7
    },
    {
     "cell_type": "markdown",
     "metadata": {},
     "source": [
      "**Gradient Descent in Python**"
     ]
    },
    {
     "cell_type": "code",
     "collapsed": false,
     "input": [
      "'''\n",
      "import numpy\n",
      "import pandas\n",
      "import random as rd\n",
      "\n",
      "def compute_cost(features, values, theta):\n",
      "    \"\"\"\n",
      "    Compute the cost of a list of parameters, theta, given a list of features \n",
      "    (input data points) and values (output data points).\n",
      "    \"\"\"\n",
      "    m = len(values)\n",
      "    sum_of_square_errors = numpy.square(numpy.dot(features, theta) - values).sum()\n",
      "    cost = sum_of_square_errors / (2*m)\n",
      "\n",
      "    return cost\n",
      "\n",
      "def gradient_descent(features, values, theta, alpha, num_iterations):\n",
      "    \"\"\"\n",
      "    Perform gradient descent given a data set with an arbitrary number of features.\n",
      "    \"\"\"\n",
      "\n",
      "    # Write code here that performs num_iterations updates to the elements of theta.\n",
      "    # times. Every time you compute the cost for a given list of thetas, append it \n",
      "    # to cost_history.\n",
      "    # See the Instructor notes for hints. \n",
      "\n",
      "    cost_history = []\n",
      "    m = len(values)\n",
      "    i = 0\n",
      "    #features = numpy.random.permutation(features)\n",
      "    for i in range(num_iterations):\n",
      "        theta = theta - alpha / m * numpy.dot(numpy.dot(features, theta) - values, features)\n",
      "        cost_history.append(compute_cost(features, values, theta))\n",
      "        \n",
      "\n",
      "\n",
      "    return theta, pandas.Series(cost_history) # leave this line for the grader\n",
      "'''"
     ],
     "language": "python",
     "metadata": {},
     "outputs": [
      {
       "metadata": {},
       "output_type": "pyout",
       "prompt_number": 31,
       "text": [
        "'\\nimport numpy\\nimport pandas\\nimport random as rd\\n\\ndef compute_cost(features, values, theta):\\n    \"\"\"\\n    Compute the cost of a list of parameters, theta, given a list of features \\n    (input data points) and values (output data points).\\n    \"\"\"\\n    m = len(values)\\n    sum_of_square_errors = numpy.square(numpy.dot(features, theta) - values).sum()\\n    cost = sum_of_square_errors / (2*m)\\n\\n    return cost\\n\\ndef gradient_descent(features, values, theta, alpha, num_iterations):\\n    \"\"\"\\n    Perform gradient descent given a data set with an arbitrary number of features.\\n    \"\"\"\\n\\n    # Write code here that performs num_iterations updates to the elements of theta.\\n    # times. Every time you compute the cost for a given list of thetas, append it \\n    # to cost_history.\\n    # See the Instructor notes for hints. \\n\\n    cost_history = []\\n    m = len(values)\\n    i = 0\\n    #features = numpy.random.permutation(features)\\n    for i in range(num_iterations):\\n        theta = theta - alpha / m * numpy.dot(numpy.dot(features, theta) - values, features)\\n        cost_history.append(compute_cost(features, values, theta))\\n        \\n\\n\\n    return theta, pandas.Series(cost_history) # leave this line for the grader\\n'"
       ]
      }
     ],
     "prompt_number": 31
    },
    {
     "cell_type": "markdown",
     "metadata": {},
     "source": [
      "**Calculate $R^2$**"
     ]
    },
    {
     "cell_type": "code",
     "collapsed": false,
     "input": [
      "'''\n",
      "import numpy\n",
      "\n",
      "def compute_r_squared(data, predictions):\n",
      "    # Write a function that, given two input numpy arrays, 'data', and 'predictions,'\n",
      "    # returns the coefficient of determination, R^2, for the model that produced \n",
      "    # predictions.\n",
      "    # \n",
      "    # Numpy has a couple of functions -- np.mean() and np.sum() --\n",
      "    # that you might find useful, but you don't have to use them.\n",
      "\n",
      "    # YOUR CODE GOES HERE\n",
      "    r_squared = 1 - numpy.square(predictions - data).sum() / numpy.square(numpy.mean(data) - data).sum()\n",
      "\n",
      "    return r_squared\n",
      "'''"
     ],
     "language": "python",
     "metadata": {},
     "outputs": [
      {
       "metadata": {},
       "output_type": "pyout",
       "prompt_number": 32,
       "text": [
        "\"\\nimport numpy\\n\\ndef compute_r_squared(data, predictions):\\n    # Write a function that, given two input numpy arrays, 'data', and 'predictions,'\\n    # returns the coefficient of determination, R^2, for the model that produced \\n    # predictions.\\n    # \\n    # Numpy has a couple of functions -- np.mean() and np.sum() --\\n    # that you might find useful, but you don't have to use them.\\n\\n    # YOUR CODE GOES HERE\\n    r_squared = 1 - numpy.square(predictions - data).sum() / numpy.square(numpy.mean(data) - data).sum()\\n\\n    return r_squared\\n\""
       ]
      }
     ],
     "prompt_number": 32
    },
    {
     "cell_type": "heading",
     "level": 2,
     "metadata": {},
     "source": [
      "<font color='00ADFF'>Section 3. Visualization</font>"
     ]
    },
    {
     "cell_type": "markdown",
     "metadata": {},
     "source": [
      "Please include two visualizations that show the relationships between two or more variables in the NYC subway data. You should feel free to implement something that we discussed in class (e.g., scatter plots, line plots, or histograms) or attempt to implement something more advanced if you'd like.  \n",
      "Remember to add appropriate titles and axes labels to your\n",
      "plots. Also, please add a short description below each figure commenting on the key insights depicted in the figure.   \n",
      "1. One visualization should contain two histograms: one of  ENTRIESn_hourly for rainy days and one of ENTRIESn_hourly for non-rainy days. You can combine the two histograms in a single plot or you can use two different plots.  \n",
      "For the histogram, you should have intervals representing the volume of ridership (value of ENTRIESn_hourly) on the x-axis and the frequency of occurrence on the y-axis. For example, you might have one interval (along the x-axis) with values from 0 to 1000. The height of the bar for this interval will then represent the number of records (rows in our data) that have ENTRIESn_hourly that fall into this interval.  \n",
      "Remember to increase the number of bins in the histogram (by having larger number of bars). The default bin width is not sufficient to capture the variability in the two samples.\n",
      "2. One visualization can be more freeform, some suggestions are:  \n",
      "  a. Ridership by time-of-day or day-of-week  \n",
      "  b. How ridership varies by subway station  \n",
      "  c. Which stations have more exits or entries at different times of day  "
     ]
    },
    {
     "cell_type": "heading",
     "level": 2,
     "metadata": {},
     "source": [
      "<font color='00ADFF'>Section 4. Conclusion</font>"
     ]
    },
    {
     "cell_type": "markdown",
     "metadata": {},
     "source": [
      "_Please address the following questions in detail. Your answers should be 1-2 paragraphs long._\n",
      "1. From your analysis and interpretation of the data, do more people ride\n",
      "the NYC subway when it is raining versus when it is not raining?    \n",
      "2. What analyses lead you to this conclusion?  "
     ]
    },
    {
     "cell_type": "heading",
     "level": 2,
     "metadata": {},
     "source": [
      "<font color='00ADFF'>Section 5. Reflection</font>"
     ]
    },
    {
     "cell_type": "markdown",
     "metadata": {},
     "source": [
      "_Please address the following questions in detail. Your answers should be 1-2 paragraphs long._\n",
      "1. Please discuss potential shortcomings of the data set and the methods \n",
      "of your analysis.\n",
      "2. (Optional) Do you have any other insight about the dataset that you would like to share with us?"
     ]
    },
    {
     "cell_type": "code",
     "collapsed": false,
     "input": [],
     "language": "python",
     "metadata": {},
     "outputs": []
    }
   ],
   "metadata": {}
  }
 ]
}