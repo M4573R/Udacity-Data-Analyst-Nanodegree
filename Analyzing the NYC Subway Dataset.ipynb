{
 "metadata": {
  "name": "",
  "signature": "sha256:67a615795fa092f9f6fd68cf1a9aa3074377ecd18f55ee2bad2770c43865f07b"
 },
 "nbformat": 3,
 "nbformat_minor": 0,
 "worksheets": [
  {
   "cells": [
    {
     "cell_type": "code",
     "collapsed": false,
     "input": [
      "%pylab inline"
     ],
     "language": "python",
     "metadata": {},
     "outputs": [
      {
       "output_type": "stream",
       "stream": "stdout",
       "text": [
        "Populating the interactive namespace from numpy and matplotlib\n"
       ]
      }
     ],
     "prompt_number": 1
    },
    {
     "cell_type": "code",
     "collapsed": false,
     "input": [
      "from ggplot import *\n",
      "import pandas as pd\n",
      "import numpy as np\n",
      "import pandasql\n",
      "import scipy.stats"
     ],
     "language": "python",
     "metadata": {},
     "outputs": [],
     "prompt_number": 2
    },
    {
     "cell_type": "heading",
     "level": 2,
     "metadata": {},
     "source": [
      "<font color='00ADFF'>Overview</font>"
     ]
    },
    {
     "cell_type": "markdown",
     "metadata": {},
     "source": [
      "This project consists of two parts. In Part 1 of the project, you should have completed the questions in Problem Sets 2, 3, 4, and 5 in the Introduction to Data Science course.  \n",
      "This document addresses part 2 of the project. Please use this document as a template and answer the following questions to explain your reasoning and conclusion behind your work in the problem sets. You will attach a document with your answers to these questions as part of your final project submission."
     ]
    },
    {
     "cell_type": "heading",
     "level": 2,
     "metadata": {},
     "source": [
      "<font color='00ADFF'>Section 1. Statistical Test</font>"
     ]
    },
    {
     "cell_type": "markdown",
     "metadata": {},
     "source": [
      "**1. Which statistical test did you use to analyse the NYC subway data? Did you use a one-tail or a two-tail P value?**  \n",
      "I used Wilcoxon rank-sum test based on the observation of non-normal distribution of the data. The null hypothesis of the test is $$P(ENTRIESn\\_hourly_{rainy} > ENTRIESn\\_hourly_{non-rainy})=0.5$$ versus the altertive hypothesis: $$P(ENTRIESn\\_hourly_{rainy} > ENTRIESn\\_hourly_{non-rainy})>0.5$$ So it only makes sense to use the one-tail P-value in this case.\n",
      "\n",
      "**2. Why is this statistical test applicable to the dataset?**  \n",
      "According to [the wikipedia page of Mann\u2013Whitney U test](http://en.wikipedia.org/wiki/Mann%E2%80%93Whitney_U_test)(aka Wilcoxon rank-sum test),  Wilcoxon rank-sum test is a non-parametric test that is good for testing whether a particular population tends to have larger values than the other, which is exactly what we are after.   \n",
      "\n",
      "**3. What results did you get from this statistical test? These should include the following numerical values: p-values, as well as the means for each of the two samples under test.**    \n",
      "As printed below, the one-tailed p-value is 1.37053478562e-06.The mean of ENTRIESn_hourly on non-rainy days and rainy days are 1845.53943866 and 2028.19603547 respectively.  \n",
      "\n",
      "**4. What is the significance and interpretation of these results?**  \n",
      "Set the significance level $\\alpha = 0.05$, the p-value is far less than $\\alpha$. Then the result would be considered statistically significant and the null hypothesis would be rejected.  \n"
     ]
    },
    {
     "cell_type": "code",
     "collapsed": false,
     "input": [
      "turnstile = pd.read_csv(\"/Users/apple/Documents/Open_Course/UDACITY/Intro to Data Science/Final Project/improved-dataset/turnstile_weather_v2.csv\")"
     ],
     "language": "python",
     "metadata": {},
     "outputs": [],
     "prompt_number": 3
    },
    {
     "cell_type": "code",
     "collapsed": false,
     "input": [
      "z_stats, p_val = scipy.stats.mannwhitneyu(turnstile.ENTRIESn_hourly[turnstile.rain==1], turnstile.ENTRIESn_hourly[turnstile.rain==0])\n",
      "print \"The Z-statistics is the test is \"+str(z_stats)+\" and the one-tailed p-value is \"+ str(p_val/2)\n",
      "print \"The 1st quartile of ENTRIESn_hourly on non-rainy days is \" + str(np.percentile(turnstile.ENTRIESn_hourly[turnstile.rain==0], 25))\n",
      "print \"The 1st quartile of ENTRIESn_hourly on rainy days is \" + str(np.percentile(turnstile.ENTRIESn_hourly[turnstile.rain==1], 25))\n",
      "print \"The median of ENTRIESn_hourly on non-rainy days is \" + str(np.percentile(turnstile.ENTRIESn_hourly[turnstile.rain==0], 50))\n",
      "print \"The median of ENTRIESn_hourly on rainy days is \" + str(np.percentile(turnstile.ENTRIESn_hourly[turnstile.rain==1], 50))\n",
      "print \"The 3rd quartile of ENTRIESn_hourly on non-rainy days is \" + str(np.percentile(turnstile.ENTRIESn_hourly[turnstile.rain==0], 75))\n",
      "print \"The 3rd quartile of ENTRIESn_hourly on rainy days is \" + str(np.percentile(turnstile.ENTRIESn_hourly[turnstile.rain==1], 75))\n",
      "print \"The mean of ENTRIESn_hourly on non-rainy days is \" + str(np.mean(turnstile.ENTRIESn_hourly[turnstile.rain==0]))\n",
      "print \"The mean of ENTRIESn_hourly on rainy days is \" + str(np.mean(turnstile.ENTRIESn_hourly[turnstile.rain==1]))"
     ],
     "language": "python",
     "metadata": {},
     "outputs": [
      {
       "output_type": "stream",
       "stream": "stdout",
       "text": [
        "The Z-statistics is the test is 153635120.5 and the one-tailed p-value is 1.37053478562e-06\n",
        "The 1st quartile of ENTRIESn_hourly on non-rainy days is 269.0\n",
        "The 1st quartile of ENTRIESn_hourly on rainy days is 295.0\n",
        "The median of ENTRIESn_hourly on non-rainy days is 893.0\n",
        "The median of ENTRIESn_hourly on rainy days is 939.0\n",
        "The 3rd quartile of ENTRIESn_hourly on non-rainy days is 2197.0\n",
        "The 3rd quartile of ENTRIESn_hourly on rainy days is 2424.0\n",
        "The mean of ENTRIESn_hourly on non-rainy days is 1845.53943866\n",
        "The mean of ENTRIESn_hourly on rainy days is 2028.19603547\n"
       ]
      }
     ],
     "prompt_number": 4
    },
    {
     "cell_type": "heading",
     "level": 2,
     "metadata": {},
     "source": [
      "<font color='00ADFF'>Section 2. Linear Regression</font>"
     ]
    },
    {
     "cell_type": "markdown",
     "metadata": {},
     "source": [
      "**1. What approach did you use to compute the coefficients theta and produce prediction for ENTRIESn_hourly in your regression model:**  \n",
      "  **- Gradient descent (as implemented in exercise 3.5)**  \n",
      "  **- OLS using Statsmodels**  \n",
      "  **- Or something different?**  \n",
      "I used `LinearRegression` from `sklearn.linear_model` module. Also, in order to get the design matrix I imported `dmatrices` from `pasty`. (The details are shown below)\n",
      "\n",
      "**2. What features (input variables) did you use in your model? Did you use any dummy variables as part of your features?**  \n",
      "**3. Why did you select these features in your model? We are looking for specific reasons that lead you to believe that\n",
      "the selected features will contribute to the predictive power of your model. Your reasons might be based on intuition. For example,  response for fog might be: \u201cI decided to use fog because I thought that when it is very foggy outside people might decide to use the subway more often.\u201d Your reasons might also be based on data exploration and experimentation, for example: \u201cI used feature X because as soon as I included it in my model, it drastically improved my $R^2$ value.\u201d**  \n",
      "**4. What is your model\u2019s $R^2$ (coefficients of determination) value?**  \n",
      "**5. What does this $R^2$ value mean for the goodness of fit for your regression model?**  \n",
      "**Do you think this linear model to predict ridership is appropriate for this dataset, given this $R^2$ value?**"
     ]
    },
    {
     "cell_type": "code",
     "collapsed": false,
     "input": [
      "turnstile.columns"
     ],
     "language": "python",
     "metadata": {},
     "outputs": [
      {
       "metadata": {},
       "output_type": "pyout",
       "prompt_number": 5,
       "text": [
        "Index([u'UNIT', u'DATEn', u'TIMEn', u'ENTRIESn', u'EXITSn', u'ENTRIESn_hourly', u'EXITSn_hourly', u'datetime', u'hour', u'day_week', u'weekday', u'station', u'latitude', u'longitude', u'conds', u'fog', u'precipi', u'pressurei', u'rain', u'tempi', u'wspdi', u'meanprecipi', u'meanpressurei', u'meantempi', u'meanwspdi', u'weather_lat', u'weather_lon'], dtype='object')"
       ]
      }
     ],
     "prompt_number": 5
    },
    {
     "cell_type": "markdown",
     "metadata": {},
     "source": [
      "**Change the data type of some columns into categorical**"
     ]
    },
    {
     "cell_type": "code",
     "collapsed": false,
     "input": [
      "cat_var = [\"day_week\", \"hour\", \"fog\", \"rain\", \"weekday\"]\n",
      "for var in cat_var:\n",
      "    turnstile[var] = turnstile[var].astype(\"category\")"
     ],
     "language": "python",
     "metadata": {},
     "outputs": [],
     "prompt_number": 10
    },
    {
     "cell_type": "code",
     "collapsed": false,
     "input": [
      "turnstile.dtypes"
     ],
     "language": "python",
     "metadata": {},
     "outputs": [
      {
       "metadata": {},
       "output_type": "pyout",
       "prompt_number": 11,
       "text": [
        "UNIT                 object\n",
        "DATEn                object\n",
        "TIMEn                object\n",
        "ENTRIESn              int64\n",
        "EXITSn                int64\n",
        "ENTRIESn_hourly     float64\n",
        "EXITSn_hourly       float64\n",
        "datetime             object\n",
        "hour               category\n",
        "day_week           category\n",
        "weekday            category\n",
        "station              object\n",
        "latitude            float64\n",
        "longitude           float64\n",
        "conds                object\n",
        "fog                category\n",
        "precipi             float64\n",
        "pressurei           float64\n",
        "rain               category\n",
        "tempi               float64\n",
        "wspdi               float64\n",
        "meanprecipi         float64\n",
        "meanpressurei       float64\n",
        "meantempi           float64\n",
        "meanwspdi           float64\n",
        "weather_lat         float64\n",
        "weather_lon         float64\n",
        "dtype: object"
       ]
      }
     ],
     "prompt_number": 11
    },
    {
     "cell_type": "code",
     "collapsed": false,
     "input": [
      "from patsy import dmatrices\n",
      "# The '- 1' in the formula is to remove the intercept, which gets added back in later by sklearn.\n",
      "y, X = dmatrices('ENTRIESn_hourly ~ precipi + hour + tempi + UNIT + day_week + meanpressurei + fog + conds - 1', \n",
      "                 data=turnstile, return_type='dataframe')\n",
      "X.head()"
     ],
     "language": "python",
     "metadata": {},
     "outputs": [
      {
       "html": [
        "<div style=\"max-height:1000px;max-width:1500px;overflow:auto;\">\n",
        "<table border=\"1\" class=\"dataframe\">\n",
        "  <thead>\n",
        "    <tr style=\"text-align: right;\">\n",
        "      <th></th>\n",
        "      <th>UNIT[R003]</th>\n",
        "      <th>UNIT[R004]</th>\n",
        "      <th>UNIT[R005]</th>\n",
        "      <th>UNIT[R006]</th>\n",
        "      <th>UNIT[R007]</th>\n",
        "      <th>UNIT[R008]</th>\n",
        "      <th>UNIT[R009]</th>\n",
        "      <th>UNIT[R011]</th>\n",
        "      <th>UNIT[R012]</th>\n",
        "      <th>UNIT[R013]</th>\n",
        "      <th>...</th>\n",
        "      <th>conds[T.Overcast]</th>\n",
        "      <th>conds[T.Partly Cloudy]</th>\n",
        "      <th>conds[T.Rain]</th>\n",
        "      <th>conds[T.Scattered Clouds]</th>\n",
        "      <th>precipi</th>\n",
        "      <th>hour</th>\n",
        "      <th>tempi</th>\n",
        "      <th>day_week</th>\n",
        "      <th>meanpressurei</th>\n",
        "      <th>fog</th>\n",
        "    </tr>\n",
        "  </thead>\n",
        "  <tbody>\n",
        "    <tr>\n",
        "      <th>0</th>\n",
        "      <td> 1</td>\n",
        "      <td> 0</td>\n",
        "      <td> 0</td>\n",
        "      <td> 0</td>\n",
        "      <td> 0</td>\n",
        "      <td> 0</td>\n",
        "      <td> 0</td>\n",
        "      <td> 0</td>\n",
        "      <td> 0</td>\n",
        "      <td> 0</td>\n",
        "      <td>...</td>\n",
        "      <td> 0</td>\n",
        "      <td> 0</td>\n",
        "      <td> 0</td>\n",
        "      <td> 0</td>\n",
        "      <td> 0</td>\n",
        "      <td>  0</td>\n",
        "      <td> 55.9</td>\n",
        "      <td> 6</td>\n",
        "      <td> 30.258</td>\n",
        "      <td> 0</td>\n",
        "    </tr>\n",
        "    <tr>\n",
        "      <th>1</th>\n",
        "      <td> 1</td>\n",
        "      <td> 0</td>\n",
        "      <td> 0</td>\n",
        "      <td> 0</td>\n",
        "      <td> 0</td>\n",
        "      <td> 0</td>\n",
        "      <td> 0</td>\n",
        "      <td> 0</td>\n",
        "      <td> 0</td>\n",
        "      <td> 0</td>\n",
        "      <td>...</td>\n",
        "      <td> 0</td>\n",
        "      <td> 1</td>\n",
        "      <td> 0</td>\n",
        "      <td> 0</td>\n",
        "      <td> 0</td>\n",
        "      <td>  4</td>\n",
        "      <td> 52.0</td>\n",
        "      <td> 6</td>\n",
        "      <td> 30.258</td>\n",
        "      <td> 0</td>\n",
        "    </tr>\n",
        "    <tr>\n",
        "      <th>2</th>\n",
        "      <td> 1</td>\n",
        "      <td> 0</td>\n",
        "      <td> 0</td>\n",
        "      <td> 0</td>\n",
        "      <td> 0</td>\n",
        "      <td> 0</td>\n",
        "      <td> 0</td>\n",
        "      <td> 0</td>\n",
        "      <td> 0</td>\n",
        "      <td> 0</td>\n",
        "      <td>...</td>\n",
        "      <td> 0</td>\n",
        "      <td> 0</td>\n",
        "      <td> 0</td>\n",
        "      <td> 0</td>\n",
        "      <td> 0</td>\n",
        "      <td> 12</td>\n",
        "      <td> 62.1</td>\n",
        "      <td> 6</td>\n",
        "      <td> 30.258</td>\n",
        "      <td> 0</td>\n",
        "    </tr>\n",
        "    <tr>\n",
        "      <th>3</th>\n",
        "      <td> 1</td>\n",
        "      <td> 0</td>\n",
        "      <td> 0</td>\n",
        "      <td> 0</td>\n",
        "      <td> 0</td>\n",
        "      <td> 0</td>\n",
        "      <td> 0</td>\n",
        "      <td> 0</td>\n",
        "      <td> 0</td>\n",
        "      <td> 0</td>\n",
        "      <td>...</td>\n",
        "      <td> 0</td>\n",
        "      <td> 0</td>\n",
        "      <td> 0</td>\n",
        "      <td> 0</td>\n",
        "      <td> 0</td>\n",
        "      <td> 16</td>\n",
        "      <td> 57.9</td>\n",
        "      <td> 6</td>\n",
        "      <td> 30.258</td>\n",
        "      <td> 0</td>\n",
        "    </tr>\n",
        "    <tr>\n",
        "      <th>4</th>\n",
        "      <td> 1</td>\n",
        "      <td> 0</td>\n",
        "      <td> 0</td>\n",
        "      <td> 0</td>\n",
        "      <td> 0</td>\n",
        "      <td> 0</td>\n",
        "      <td> 0</td>\n",
        "      <td> 0</td>\n",
        "      <td> 0</td>\n",
        "      <td> 0</td>\n",
        "      <td>...</td>\n",
        "      <td> 0</td>\n",
        "      <td> 0</td>\n",
        "      <td> 0</td>\n",
        "      <td> 0</td>\n",
        "      <td> 0</td>\n",
        "      <td> 20</td>\n",
        "      <td> 52.0</td>\n",
        "      <td> 6</td>\n",
        "      <td> 30.258</td>\n",
        "      <td> 0</td>\n",
        "    </tr>\n",
        "  </tbody>\n",
        "</table>\n",
        "<p>5 rows \u00d7 257 columns</p>\n",
        "</div>"
       ],
       "metadata": {},
       "output_type": "pyout",
       "prompt_number": 15,
       "text": [
        "   UNIT[R003]  UNIT[R004]  UNIT[R005]  UNIT[R006]  UNIT[R007]  UNIT[R008]  \\\n",
        "0           1           0           0           0           0           0   \n",
        "1           1           0           0           0           0           0   \n",
        "2           1           0           0           0           0           0   \n",
        "3           1           0           0           0           0           0   \n",
        "4           1           0           0           0           0           0   \n",
        "\n",
        "   UNIT[R009]  UNIT[R011]  UNIT[R012]  UNIT[R013] ...   conds[T.Overcast]  \\\n",
        "0           0           0           0           0 ...                   0   \n",
        "1           0           0           0           0 ...                   0   \n",
        "2           0           0           0           0 ...                   0   \n",
        "3           0           0           0           0 ...                   0   \n",
        "4           0           0           0           0 ...                   0   \n",
        "\n",
        "   conds[T.Partly Cloudy]  conds[T.Rain]  conds[T.Scattered Clouds]  precipi  \\\n",
        "0                       0              0                          0        0   \n",
        "1                       1              0                          0        0   \n",
        "2                       0              0                          0        0   \n",
        "3                       0              0                          0        0   \n",
        "4                       0              0                          0        0   \n",
        "\n",
        "   hour  tempi  day_week  meanpressurei  fog  \n",
        "0     0   55.9         6         30.258    0  \n",
        "1     4   52.0         6         30.258    0  \n",
        "2    12   62.1         6         30.258    0  \n",
        "3    16   57.9         6         30.258    0  \n",
        "4    20   52.0         6         30.258    0  \n",
        "\n",
        "[5 rows x 257 columns]"
       ]
      }
     ],
     "prompt_number": 15
    },
    {
     "cell_type": "code",
     "collapsed": false,
     "input": [
      "from sklearn.linear_model import LinearRegression\n",
      "model = LinearRegression()\n",
      "model = model.fit(X,y)\n",
      "print model.coef_\n",
      "print model.intercept_"
     ],
     "language": "python",
     "metadata": {},
     "outputs": [
      {
       "output_type": "stream",
       "stream": "stdout",
       "text": [
        "[[ -1.62574329e+03  -1.26132439e+03  -1.25203722e+03  -1.13961078e+03\n",
        "   -1.43202201e+03  -1.42435839e+03  -1.46838617e+03   5.52078813e+03\n",
        "    6.85963316e+03   7.58074019e+02  -1.05062848e+03   2.37306864e+03\n",
        "    5.98761409e+03   1.48306410e+03   4.54916542e+03   2.87202104e+03\n",
        "    7.69355789e+03   4.32873531e+03   1.44692687e+03   3.57995657e+03\n",
        "    1.14317079e+03   5.40514391e+03   1.27533746e+03   2.52710628e+03\n",
        "    2.62430992e+03   6.41011703e+03  -6.43846057e+02   9.86626643e+02\n",
        "   -1.02679201e+03  -9.45133568e+02  -1.57696241e+03  -1.00069403e+03\n",
        "   -5.41235242e+02   1.27514929e+03  -1.21372499e+03   1.06228370e+03\n",
        "    2.85369230e+03   6.52014391e+03   9.47955740e+02   2.19915498e+03\n",
        "    3.30969768e+03  -5.31902213e+02   1.38909093e+03  -3.55246285e+02\n",
        "    6.53969390e+03  -3.66146655e+02   3.05808477e+03  -1.18084459e+03\n",
        "   -6.19967437e+02  -1.00541832e+03  -1.17291771e+03   9.11944987e+02\n",
        "   -6.17969164e+02  -9.55668215e+02  -9.47952367e+02  -1.51849092e+03\n",
        "   -8.79957204e+02  -1.28293072e+03  -8.21163028e+02  -3.70765185e+01\n",
        "    1.78725144e+03   1.74096254e+03  -3.12031406e+02   1.30166004e+03\n",
        "    8.20593423e+03   7.89039824e+02   7.75251438e+02  -5.73748525e+02\n",
        "   -1.29684043e+03  -1.33126145e+03  -6.37055279e+02   2.25496903e+02\n",
        "    2.72208560e+02  -1.82732647e+01   4.05682030e+02   5.69924291e+02\n",
        "    1.19665193e+03   9.81057828e+00   5.66837460e+02  -1.22263090e+03\n",
        "    1.00122993e+03   1.89006864e+03  -3.60508093e+02  -4.27513553e+02\n",
        "    1.53976757e+03  -6.21435785e+02  -1.22328574e+03   3.42893423e+03\n",
        "    1.42605789e+03  -8.83892228e+01  -8.47593853e+02  -4.69446656e+02\n",
        "    1.40520305e+03  -8.24520507e+02   1.13897277e+02  -2.31570034e+02\n",
        "   -2.94268480e+02   8.15153601e+02  -1.42356042e+02  -1.09108594e+03\n",
        "    6.71116536e+01   3.00782133e+03   6.85602505e+02   7.48567922e+02\n",
        "    1.54355789e+03   1.09595525e+02   4.99036972e+03   3.33078066e-02\n",
        "   -9.21657351e+02  -7.26659647e+02  -6.91545309e+02   5.46012619e+02\n",
        "   -3.55455571e+02   2.36961764e+02  -4.44945351e+02   3.37001639e+02\n",
        "   -1.04521119e+03  -6.50541939e+02   4.70156196e+02   1.10399052e+01\n",
        "   -3.28904475e+02  -2.40562497e+02   2.23107016e+02   7.73021332e+02\n",
        "   -9.25677851e+02  -1.21373177e+03   6.28525632e+02  -8.33942580e+01\n",
        "   -5.94061007e+02  -1.04358770e+03  -1.75685432e+02  -1.00634883e+03\n",
        "   -7.25221010e+02   2.34289707e+02  -4.80034970e+02  -2.96748562e+02\n",
        "   -3.06965442e+02   3.73870237e+02  -1.01046318e+03  -1.19359129e+03\n",
        "   -9.61162187e+02  -6.77485121e+02  -6.49746012e+02  -1.15933729e+03\n",
        "   -1.21459037e+03  -7.92082453e+02  -7.02194718e+02  -6.16823229e+02\n",
        "   -1.40326208e+03   7.97258116e+02  -2.08995638e+02  -1.04622692e+03\n",
        "    3.56498646e+02  -8.80323830e+02   8.92700749e+02  -1.19321242e+03\n",
        "   -3.49680284e+02  -1.35840001e+02  -1.05850997e+03  -1.56563130e+03\n",
        "    1.33089765e+03  -3.88770244e+02  -7.78393263e+02  -4.86341618e+02\n",
        "   -8.11378489e+02  -1.05707693e+03   8.35703923e+02  -9.38088879e+02\n",
        "   -7.18022272e+02   1.06848213e+02  -2.44656896e+02  -8.34230058e+02\n",
        "   -6.77052703e+02  -1.53766344e+02  -1.24897313e+03  -1.63822374e+03\n",
        "   -1.30928544e+03  -8.43124632e+02  -8.43571311e+02  -8.86889339e+02\n",
        "   -1.25431725e+03  -1.38059493e+03  -4.28174835e+02  -8.09533576e+02\n",
        "   -8.36299273e+02  -3.70614153e+02  -1.25048994e+03  -1.38607719e+03\n",
        "   -9.65489983e+02  -1.09608153e+03  -4.87018789e+02  -1.90860814e+02\n",
        "   -1.00298175e+03  -1.08927042e+03  -1.15806182e+03   2.26170299e+01\n",
        "   -8.17538337e+02  -1.14277790e+03   4.31681546e+02  -5.36985063e+02\n",
        "   -7.03786190e+02  -1.36665157e+03  -9.37459447e+02  -9.36071429e+02\n",
        "   -4.20710130e+02  -1.36753707e+03  -1.44452204e+03  -1.65604211e+03\n",
        "   -1.23780640e+03  -4.22740919e+02  -7.05721680e+02  -6.59536447e+00\n",
        "   -4.79613289e+02  -1.40570113e+03  -7.85521791e+02  -1.29159644e+03\n",
        "   -1.68774062e+03  -1.63533842e+03  -1.78038017e+03  -1.22280410e+03\n",
        "   -1.31603381e+03  -1.30884616e+03  -5.28335922e+02  -1.61471857e+03\n",
        "   -1.50955391e+03  -6.40330256e+02  -1.47813887e+03  -1.29433315e+03\n",
        "   -1.07875523e+03  -1.05329188e+03  -1.15701304e+03  -8.15937052e+02\n",
        "   -1.40929848e+03  -7.68232371e+02  -2.22065088e+01  -1.66530048e+03\n",
        "   -1.71491017e+03  -1.56532520e+03  -1.80177878e+03  -1.83542765e+03\n",
        "    7.15767383e+01   8.26239460e+01  -8.28913723e+02  -8.11405204e+02\n",
        "    3.61422938e+02   3.05276384e+02  -2.74314582e+02  -1.92651310e+02\n",
        "   -1.39141464e+02  -9.62615560e+02   1.05728096e+02   1.71465969e+03\n",
        "    1.24529809e+02  -2.98354174e+00  -1.42950392e+02  -5.21227380e+02\n",
        "   -1.52437254e+02]]\n",
        "[ 16918.48620578]\n"
       ]
      }
     ],
     "prompt_number": 16
    },
    {
     "cell_type": "markdown",
     "metadata": {},
     "source": [
      "- `model.coef_` are the learned coef of the $\\beta$ parameters. \n",
      "- `model.intercept_` is automatically included by sklearn. "
     ]
    },
    {
     "cell_type": "code",
     "collapsed": false,
     "input": [
      "print model.score(X,y) # R^2 value"
     ],
     "language": "python",
     "metadata": {},
     "outputs": [
      {
       "output_type": "stream",
       "stream": "stdout",
       "text": [
        "0.473917571687\n"
       ]
      }
     ],
     "prompt_number": 17
    },
    {
     "cell_type": "heading",
     "level": 2,
     "metadata": {},
     "source": [
      "<font color='00ADFF'>Section 3. Visualization</font>"
     ]
    },
    {
     "cell_type": "markdown",
     "metadata": {},
     "source": [
      "Please include two visualizations that show the relationships between two or more variables in the NYC subway data. You should feel free to implement something that we discussed in class (e.g., scatter plots, line plots, or histograms) or attempt to implement something more advanced if you'd like.  \n",
      "Remember to add appropriate titles and axes labels to your\n",
      "plots. Also, please add a short description below each figure commenting on the key insights depicted in the figure.   \n",
      "1. One visualization should contain two histograms: one of  ENTRIESn_hourly for rainy days and one of ENTRIESn_hourly for non-rainy days. You can combine the two histograms in a single plot or you can use two different plots.  \n",
      "For the histogram, you should have intervals representing the volume of ridership (value of ENTRIESn_hourly) on the x-axis and the frequency of occurrence on the y-axis. For example, you might have one interval (along the x-axis) with values from 0 to 1000. The height of the bar for this interval will then represent the number of records (rows in our data) that have ENTRIESn_hourly that fall into this interval.  \n",
      "Remember to increase the number of bins in the histogram (by having larger number of bars). The default bin width is not sufficient to capture the variability in the two samples.\n",
      "2. One visualization can be more freeform, some suggestions are:  \n",
      "  a. Ridership by time-of-day or day-of-week  \n",
      "  b. How ridership varies by subway station  \n",
      "  c. Which stations have more exits or entries at different times of day  "
     ]
    },
    {
     "cell_type": "heading",
     "level": 3,
     "metadata": {},
     "source": [
      "Two histograms: one of ENTRIESn_hourly for rainy days and one of ENTRIESn_hourly for non-rainy days"
     ]
    },
    {
     "cell_type": "markdown",
     "metadata": {},
     "source": [
      "**Step1: Revalue 'rain'**"
     ]
    },
    {
     "cell_type": "code",
     "collapsed": false,
     "input": [
      "turnstile.rain[turnstile.rain==0] = 'Non-rainy'\n",
      "turnstile.rain[turnstile.rain==1] = 'Rainy'"
     ],
     "language": "python",
     "metadata": {},
     "outputs": [],
     "prompt_number": 7
    },
    {
     "cell_type": "markdown",
     "metadata": {},
     "source": [
      "**Step2: Plotting**"
     ]
    },
    {
     "cell_type": "code",
     "collapsed": false,
     "input": [
      "ggplot(turnstile, aes(x='ENTRIESn_hourly')) + \\\n",
      "ggtitle(\"Histogram of Ridership during the Rainy and the Non-rainy days\") + \\\n",
      "geom_histogram(binwidth=100, fill='#FFE10A', color='#E87807') + \\\n",
      "xlim(0, 10000) + \\\n",
      "facet_wrap('rain') + \\\n",
      "theme_seaborn(style='darkgrid')"
     ],
     "language": "python",
     "metadata": {},
     "outputs": [
      {
       "metadata": {},
       "output_type": "display_data",
       "png": "[encoded data removed]",
       "text": [
        "<matplotlib.figure.Figure at 0x158a44a10>"
       ]
      },
      {
       "metadata": {},
       "output_type": "pyout",
       "prompt_number": 113,
       "text": [
        "<ggplot: (361383013)>"
       ]
      }
     ],
     "prompt_number": 113
    },
    {
     "cell_type": "markdown",
     "metadata": {},
     "source": [
      "**Calculate the total entries and the average entries for rainy and non-rainy days**"
     ]
    },
    {
     "cell_type": "code",
     "collapsed": false,
     "input": [
      "q = \"\"\"\n",
      "    SELECT SUM(ENTRIESn_hourly) AS 'ENTRIES', COUNT(rain) AS 'Total_Hours'\n",
      "    FROM turnstile\n",
      "    GROUP BY rain\n",
      "    \"\"\"\n",
      "\n",
      "rainy_days = pandasql.sqldf(q.lower(), locals())\n",
      "rainy_days.avg_entries = rainy_days.entries / rainy_days.total_hours #calulate the average entries"
     ],
     "language": "python",
     "metadata": {},
     "outputs": [],
     "prompt_number": 117
    },
    {
     "cell_type": "code",
     "collapsed": false,
     "input": [
      "print rainy_days.avg_entries\n",
      "rainy_days"
     ],
     "language": "python",
     "metadata": {},
     "outputs": [
      {
       "output_type": "stream",
       "stream": "stdout",
       "text": [
        "0    1845.539439\n",
        "1    2028.196035\n",
        "dtype: float64\n"
       ]
      },
      {
       "html": [
        "<div style=\"max-height:1000px;max-width:1500px;overflow:auto;\">\n",
        "<table border=\"1\" class=\"dataframe\">\n",
        "  <thead>\n",
        "    <tr style=\"text-align: right;\">\n",
        "      <th></th>\n",
        "      <th>entries</th>\n",
        "      <th>total_hours</th>\n",
        "    </tr>\n",
        "  </thead>\n",
        "  <tbody>\n",
        "    <tr>\n",
        "      <th>0</th>\n",
        "      <td> 61020916</td>\n",
        "      <td> 33064</td>\n",
        "    </tr>\n",
        "    <tr>\n",
        "      <th>1</th>\n",
        "      <td> 19440259</td>\n",
        "      <td>  9585</td>\n",
        "    </tr>\n",
        "  </tbody>\n",
        "</table>\n",
        "</div>"
       ],
       "metadata": {},
       "output_type": "pyout",
       "prompt_number": 118,
       "text": [
        "    entries  total_hours\n",
        "0  61020916        33064\n",
        "1  19440259         9585"
       ]
      }
     ],
     "prompt_number": 118
    },
    {
     "cell_type": "markdown",
     "metadata": {},
     "source": [
      "**Comments**  \n",
      "From the two histograms above, we can see the shape of distributions of ridership of subway during the rainy and non-rainy days in NYC are really similar one another. Both are highly skewed right."
     ]
    },
    {
     "cell_type": "heading",
     "level": 3,
     "metadata": {},
     "source": [
      "Ridership by day-of-week"
     ]
    },
    {
     "cell_type": "markdown",
     "metadata": {},
     "source": [
      "**Step1: Build New Data Frame for Plotting ridership for day of week**"
     ]
    },
    {
     "cell_type": "code",
     "collapsed": false,
     "input": [
      "day_week_ridership = pd.melt(turnstile, id_vars=['day_week'], value_vars=['ENTRIESn_hourly'])\n",
      "# Revalue 'day_week'\n",
      "day_week_ridership.day_week[day_week_ridership.day_week == 6] = 'Sun'\n",
      "day_week_ridership.day_week[day_week_ridership.day_week == 0] = 'Mon'\n",
      "day_week_ridership.day_week[day_week_ridership.day_week == 1] = 'Tue'\n",
      "day_week_ridership.day_week[day_week_ridership.day_week == 2] = 'Wed'\n",
      "day_week_ridership.day_week[day_week_ridership.day_week == 3] = 'Thu'\n",
      "day_week_ridership.day_week[day_week_ridership.day_week == 4] = 'Fri'\n",
      "day_week_ridership.day_week[day_week_ridership.day_week == 5] = 'Sat'"
     ],
     "language": "python",
     "metadata": {},
     "outputs": [],
     "prompt_number": 64
    },
    {
     "cell_type": "markdown",
     "metadata": {},
     "source": [
      "**Step2: Plotting**"
     ]
    },
    {
     "cell_type": "code",
     "collapsed": false,
     "input": [
      "ggplot(day_week_ridership, aes(x='value')) + geom_histogram(width=50, color='#0052FF', fill='#00ADFF') + \\\n",
      "xlim(0, 10000) + facet_wrap('day_week') + xlab('ridership') + \\\n",
      "ggtitle('Histograms of Ridership for Different days throughout the Week') + \\\n",
      "theme_seaborn(style='darkgrid')"
     ],
     "language": "python",
     "metadata": {},
     "outputs": [
      {
       "metadata": {},
       "output_type": "display_data",
       "png": "[encoded data removed]",
       "text": [
        "<matplotlib.figure.Figure at 0x148e83890>"
       ]
      },
      {
       "metadata": {},
       "output_type": "pyout",
       "prompt_number": 95,
       "text": [
        "<ggplot: (350861341)>"
       ]
      }
     ],
     "prompt_number": 95
    },
    {
     "cell_type": "heading",
     "level": 2,
     "metadata": {},
     "source": [
      "<font color='00ADFF'>Section 4. Conclusion</font>"
     ]
    },
    {
     "cell_type": "markdown",
     "metadata": {},
     "source": [
      "_Please address the following questions in detail. Your answers should be 1-2 paragraphs long._\n",
      "1. From your analysis and interpretation of the data, do more people ride\n",
      "the NYC subway when it is raining versus when it is not raining?    \n",
      "2. What analyses lead you to this conclusion?  "
     ]
    },
    {
     "cell_type": "heading",
     "level": 2,
     "metadata": {},
     "source": [
      "<font color='00ADFF'>Section 5. Reflection</font>"
     ]
    },
    {
     "cell_type": "markdown",
     "metadata": {},
     "source": [
      "_Please address the following questions in detail. Your answers should be 1-2 paragraphs long._\n",
      "1. Please discuss potential shortcomings of the data set and the methods \n",
      "of your analysis.\n",
      "2. (Optional) Do you have any other insight about the dataset that you would like to share with us?"
     ]
    }
   ],
   "metadata": {}
  }
 ]
}