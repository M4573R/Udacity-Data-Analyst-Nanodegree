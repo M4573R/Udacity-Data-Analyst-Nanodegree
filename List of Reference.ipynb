{
 "metadata": {
  "name": "",
  "signature": "sha256:5b5c4bcb198d1da1cae646d3e2636c6948db4f1bd6901c684354a854964e13a4"
 },
 "nbformat": 3,
 "nbformat_minor": 0,
 "worksheets": [
  {
   "cells": [
    {
     "cell_type": "heading",
     "level": 3,
     "metadata": {},
     "source": [
      "Reference"
     ]
    },
    {
     "cell_type": "markdown",
     "metadata": {},
     "source": [
      " - Statistical Data Analysis in Python https://github.com/fonnesbeck/statistical-analysis-python-tutorial\n",
      " - The Wikipedia page of Mann\u2013Whitney U test http://en.wikipedia.org/wiki/Mann%E2%80%93Whitney_U_test\n",
      " - [Python for Data Analysis By Wes McKinney](http://shop.oreilly.com/product/0636920023784.do), 2012"
     ]
    },
    {
     "cell_type": "code",
     "collapsed": false,
     "input": [],
     "language": "python",
     "metadata": {},
     "outputs": []
    }
   ],
   "metadata": {}
  }
 ]
}